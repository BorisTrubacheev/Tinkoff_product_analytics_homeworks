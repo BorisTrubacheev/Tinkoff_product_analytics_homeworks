{
 "cells": [
  {
   "cell_type": "markdown",
   "id": "6a3518d5",
   "metadata": {},
   "source": [
    "# Домашка по питону"
   ]
  },
  {
   "cell_type": "markdown",
   "id": "439471cc",
   "metadata": {},
   "source": [
    "Для выполнения задания потребуется самому сгенерировать данные с помощью модуля random (все пункты выполняются с помощью нее).\n",
    "\n",
    "Что необходимо, для создания будущей таблицы:\n",
    "\n",
    "0) Для генерации данных в random необходимо установить seed = \"АДВИ_2023\", длина каждого списка N = 1000;\n",
    "\n",
    "1) index колонка: создать список из N последовательных целых элементов от 1 до 1000 включительно, далее, с помощью специальной функции random перемешать его;\n",
    "\n",
    "2) groups колонка: создать список из N элементов, состоящий из значений из списка [\"группа_1\", \"группа_2\", \"группа_3\", \"группа_4\", \"группа_5\"], необходимо использовать функцию из random которая возвращает список элементов длины k, выбранных из последовательности population с перестановкой элементов;\n",
    "\n",
    "3) uniform колонка: создать список из N элементов, состоящий из целых значение из равномерного распределения [50, 100] ;\n",
    "\n",
    "4) gauss_1, gauss_2, gauss_3 колонки: Создать 3 списка из N элементов каждый, заполненные значениями из нормальных распределений с параметрами:\n",
    "\n",
    "﻿\n",
    "�\n",
    "=\n",
    "0\n",
    ",\n",
    "�\n",
    "2\n",
    "=\n",
    "1\n",
    "μ=0,σ \n",
    "2\n",
    " =1﻿ -> третья колонка gauss_1;\n",
    "﻿\n",
    "�\n",
    "=\n",
    "0\n",
    ",\n",
    "�\n",
    "2\n",
    "=\n",
    "144\n",
    "μ=0,σ \n",
    "2\n",
    " =144﻿ -> четвертая колонка gauss_2;\n",
    "﻿\n",
    "�\n",
    "=\n",
    "50\n",
    ",\n",
    "�\n",
    "2\n",
    "=\n",
    "81\n",
    "μ=50,σ \n",
    "2\n",
    " =81﻿ -> пятая колонка gauss_3;\n",
    " \n",
    "5) Создать pandas DataFrame, где (1) будет индексом, (2)-(4) колонки, названия колонок [\"groups\", \"uniform\", \"gauss_1\", \"gauss_2\", \"gauss_3\"] соответственно, не забывая проверить, что типы колонок должны соответствовать заявленным типам данных;\n",
    "\n",
    "6) Для колонок gauss_1 и gauss_2 заменить значения на None:\n",
    "\n",
    "* Для gauss_1, если индекс у значение делится на 121 без остатка;\n",
    "* Для gauss_2, если дробная часть больше 0.95;\n",
    "\n",
    "7) Теперь, для пропущенных значений gauss_1 и gauss_2:\n",
    "\n",
    "Для gauss_2 None заменить на среднее по колонке;\n",
    "Удалить строчки из таблицы, где gauss_1 == None."
   ]
  },
  {
   "cell_type": "markdown",
   "id": "a970f26a",
   "metadata": {},
   "source": [
    "## Генерация данных"
   ]
  },
  {
   "cell_type": "code",
   "execution_count": 235,
   "id": "4fe6b00d",
   "metadata": {},
   "outputs": [],
   "source": [
    "import numpy as np\n",
    "import pandas as pd\n",
    "import random"
   ]
  },
  {
   "cell_type": "code",
   "execution_count": 236,
   "id": "61560847",
   "metadata": {},
   "outputs": [],
   "source": [
    "random.seed(\"АДВИ_2023\")"
   ]
  },
  {
   "cell_type": "code",
   "execution_count": 237,
   "id": "53e1a3c1",
   "metadata": {},
   "outputs": [],
   "source": [
    "idx = list(range(1, 1001))\n",
    "random.shuffle(idx)"
   ]
  },
  {
   "cell_type": "code",
   "execution_count": 238,
   "id": "ec9ac4cd",
   "metadata": {},
   "outputs": [],
   "source": [
    "groups = random.choices([\"группа_1\", \"группа_2\", \"группа_3\", \"группа_4\", \"группа_5\"], k=1000)"
   ]
  },
  {
   "cell_type": "code",
   "execution_count": 239,
   "id": "b44eba72",
   "metadata": {},
   "outputs": [],
   "source": [
    "uniform = [random.randint(50, 100) for i in range(1000)]"
   ]
  },
  {
   "cell_type": "code",
   "execution_count": 240,
   "id": "055fc288",
   "metadata": {},
   "outputs": [],
   "source": [
    "gauss_1 = [random.gauss(mu=0, sigma=1) for i in range(1000)]"
   ]
  },
  {
   "cell_type": "code",
   "execution_count": 241,
   "id": "1d2634b7",
   "metadata": {},
   "outputs": [],
   "source": [
    "gauss_2 = [random.gauss(mu=0, sigma=12) for i in range(1000)]"
   ]
  },
  {
   "cell_type": "code",
   "execution_count": 242,
   "id": "ca3a17d3",
   "metadata": {},
   "outputs": [],
   "source": [
    "gauss_3 = [random.gauss(mu=50, sigma=9) for i in range(1000)]"
   ]
  },
  {
   "cell_type": "code",
   "execution_count": 243,
   "id": "774b460f",
   "metadata": {},
   "outputs": [],
   "source": [
    "df = pd.DataFrame(data= {\"groups\": groups, \"uniform\": uniform, \"gauss_1\": gauss_1, \"gauss_2\" :gauss_2, \"gauss_3\": gauss_3},\n",
    "                  index=np.array(idx))"
   ]
  },
  {
   "cell_type": "code",
   "execution_count": 244,
   "id": "6cde6109",
   "metadata": {},
   "outputs": [],
   "source": [
    "df.loc[df.index % 121 == 0, 'gauss_1'] = None"
   ]
  },
  {
   "cell_type": "code",
   "execution_count": 245,
   "id": "2e539412",
   "metadata": {},
   "outputs": [],
   "source": [
    "df.loc[np.modf(df['gauss_2'])[0] > 0.95, 'gauss_2'] = None"
   ]
  },
  {
   "cell_type": "code",
   "execution_count": 246,
   "id": "5bfa393f",
   "metadata": {},
   "outputs": [],
   "source": [
    "val = np.nanmean(df['gauss_2'])\n",
    "df['gauss_2'] = df['gauss_2'].fillna(value=val)"
   ]
  },
  {
   "cell_type": "code",
   "execution_count": 247,
   "id": "6675a0eb",
   "metadata": {},
   "outputs": [],
   "source": [
    "df.dropna(inplace=True)"
   ]
  },
  {
   "cell_type": "code",
   "execution_count": 248,
   "id": "61d08c80",
   "metadata": {},
   "outputs": [
    {
     "data": {
      "text/html": [
       "<div>\n",
       "<style scoped>\n",
       "    .dataframe tbody tr th:only-of-type {\n",
       "        vertical-align: middle;\n",
       "    }\n",
       "\n",
       "    .dataframe tbody tr th {\n",
       "        vertical-align: top;\n",
       "    }\n",
       "\n",
       "    .dataframe thead th {\n",
       "        text-align: right;\n",
       "    }\n",
       "</style>\n",
       "<table border=\"1\" class=\"dataframe\">\n",
       "  <thead>\n",
       "    <tr style=\"text-align: right;\">\n",
       "      <th></th>\n",
       "      <th>groups</th>\n",
       "      <th>uniform</th>\n",
       "      <th>gauss_1</th>\n",
       "      <th>gauss_2</th>\n",
       "      <th>gauss_3</th>\n",
       "    </tr>\n",
       "  </thead>\n",
       "  <tbody>\n",
       "    <tr>\n",
       "      <th>476</th>\n",
       "      <td>группа_1</td>\n",
       "      <td>95</td>\n",
       "      <td>3.010291</td>\n",
       "      <td>2.156346</td>\n",
       "      <td>57.455851</td>\n",
       "    </tr>\n",
       "    <tr>\n",
       "      <th>315</th>\n",
       "      <td>группа_5</td>\n",
       "      <td>77</td>\n",
       "      <td>0.190277</td>\n",
       "      <td>-9.934550</td>\n",
       "      <td>62.694177</td>\n",
       "    </tr>\n",
       "    <tr>\n",
       "      <th>490</th>\n",
       "      <td>группа_4</td>\n",
       "      <td>96</td>\n",
       "      <td>-0.282161</td>\n",
       "      <td>9.211071</td>\n",
       "      <td>54.688895</td>\n",
       "    </tr>\n",
       "    <tr>\n",
       "      <th>748</th>\n",
       "      <td>группа_3</td>\n",
       "      <td>56</td>\n",
       "      <td>1.127080</td>\n",
       "      <td>-12.391793</td>\n",
       "      <td>30.192353</td>\n",
       "    </tr>\n",
       "    <tr>\n",
       "      <th>471</th>\n",
       "      <td>группа_5</td>\n",
       "      <td>52</td>\n",
       "      <td>-1.238270</td>\n",
       "      <td>10.938748</td>\n",
       "      <td>52.682052</td>\n",
       "    </tr>\n",
       "    <tr>\n",
       "      <th>...</th>\n",
       "      <td>...</td>\n",
       "      <td>...</td>\n",
       "      <td>...</td>\n",
       "      <td>...</td>\n",
       "      <td>...</td>\n",
       "    </tr>\n",
       "    <tr>\n",
       "      <th>260</th>\n",
       "      <td>группа_4</td>\n",
       "      <td>57</td>\n",
       "      <td>-1.484164</td>\n",
       "      <td>-5.911598</td>\n",
       "      <td>49.330196</td>\n",
       "    </tr>\n",
       "    <tr>\n",
       "      <th>146</th>\n",
       "      <td>группа_4</td>\n",
       "      <td>78</td>\n",
       "      <td>-0.379041</td>\n",
       "      <td>-3.132954</td>\n",
       "      <td>60.329900</td>\n",
       "    </tr>\n",
       "    <tr>\n",
       "      <th>972</th>\n",
       "      <td>группа_1</td>\n",
       "      <td>52</td>\n",
       "      <td>-0.857206</td>\n",
       "      <td>0.835715</td>\n",
       "      <td>51.926114</td>\n",
       "    </tr>\n",
       "    <tr>\n",
       "      <th>161</th>\n",
       "      <td>группа_1</td>\n",
       "      <td>62</td>\n",
       "      <td>-0.195475</td>\n",
       "      <td>3.496498</td>\n",
       "      <td>66.310250</td>\n",
       "    </tr>\n",
       "    <tr>\n",
       "      <th>587</th>\n",
       "      <td>группа_5</td>\n",
       "      <td>60</td>\n",
       "      <td>0.093496</td>\n",
       "      <td>-9.164475</td>\n",
       "      <td>60.897843</td>\n",
       "    </tr>\n",
       "  </tbody>\n",
       "</table>\n",
       "<p>992 rows × 5 columns</p>\n",
       "</div>"
      ],
      "text/plain": [
       "       groups  uniform   gauss_1    gauss_2    gauss_3\n",
       "476  группа_1       95  3.010291   2.156346  57.455851\n",
       "315  группа_5       77  0.190277  -9.934550  62.694177\n",
       "490  группа_4       96 -0.282161   9.211071  54.688895\n",
       "748  группа_3       56  1.127080 -12.391793  30.192353\n",
       "471  группа_5       52 -1.238270  10.938748  52.682052\n",
       "..        ...      ...       ...        ...        ...\n",
       "260  группа_4       57 -1.484164  -5.911598  49.330196\n",
       "146  группа_4       78 -0.379041  -3.132954  60.329900\n",
       "972  группа_1       52 -0.857206   0.835715  51.926114\n",
       "161  группа_1       62 -0.195475   3.496498  66.310250\n",
       "587  группа_5       60  0.093496  -9.164475  60.897843\n",
       "\n",
       "[992 rows x 5 columns]"
      ]
     },
     "execution_count": 248,
     "metadata": {},
     "output_type": "execute_result"
    }
   ],
   "source": [
    "df"
   ]
  },
  {
   "cell_type": "markdown",
   "id": "961bca78",
   "metadata": {},
   "source": [
    "### Задание 1"
   ]
  },
  {
   "cell_type": "markdown",
   "id": "b506da4b",
   "metadata": {},
   "source": [
    "Сколько всего получилось записей в таблице после выполнения всех пунктов из условия?"
   ]
  },
  {
   "cell_type": "code",
   "execution_count": 249,
   "id": "4114eb78",
   "metadata": {},
   "outputs": [
    {
     "data": {
      "text/plain": [
       "992"
      ]
     },
     "execution_count": 249,
     "metadata": {},
     "output_type": "execute_result"
    }
   ],
   "source": [
    "len(df)"
   ]
  },
  {
   "cell_type": "markdown",
   "id": "8224d351",
   "metadata": {},
   "source": [
    "### Задание 2 "
   ]
  },
  {
   "cell_type": "markdown",
   "id": "20baec68",
   "metadata": {},
   "source": [
    "Для колонки gauss_2 посчитать среднее и среднеквадратическое отклонение."
   ]
  },
  {
   "cell_type": "code",
   "execution_count": 250,
   "id": "23c933a3",
   "metadata": {},
   "outputs": [
    {
     "data": {
      "text/plain": [
       "-0.47379908256312997"
      ]
     },
     "execution_count": 250,
     "metadata": {},
     "output_type": "execute_result"
    }
   ],
   "source": [
    "df['gauss_2'].mean()"
   ]
  },
  {
   "cell_type": "code",
   "execution_count": 251,
   "id": "f887b59e",
   "metadata": {},
   "outputs": [
    {
     "data": {
      "text/plain": [
       "12.06996394390761"
      ]
     },
     "execution_count": 251,
     "metadata": {},
     "output_type": "execute_result"
    }
   ],
   "source": [
    "df['gauss_2'].std()"
   ]
  },
  {
   "cell_type": "markdown",
   "id": "ffe1c1a9",
   "metadata": {},
   "source": [
    "### Задание 3"
   ]
  },
  {
   "cell_type": "markdown",
   "id": "1f40f16e",
   "metadata": {},
   "source": [
    "Какая группа встречается чаще всего и сколько раз?"
   ]
  },
  {
   "cell_type": "code",
   "execution_count": 255,
   "id": "a204599c",
   "metadata": {},
   "outputs": [
    {
     "data": {
      "text/plain": [
       "count          992\n",
       "unique           5\n",
       "top       группа_4\n",
       "freq           222\n",
       "Name: groups, dtype: object"
      ]
     },
     "execution_count": 255,
     "metadata": {},
     "output_type": "execute_result"
    }
   ],
   "source": [
    "df['groups'].describe()"
   ]
  },
  {
   "cell_type": "code",
   "execution_count": 258,
   "id": "04f71c1e",
   "metadata": {},
   "outputs": [
    {
     "data": {
      "text/html": [
       "<div>\n",
       "<style scoped>\n",
       "    .dataframe tbody tr th:only-of-type {\n",
       "        vertical-align: middle;\n",
       "    }\n",
       "\n",
       "    .dataframe tbody tr th {\n",
       "        vertical-align: top;\n",
       "    }\n",
       "\n",
       "    .dataframe thead th {\n",
       "        text-align: right;\n",
       "    }\n",
       "</style>\n",
       "<table border=\"1\" class=\"dataframe\">\n",
       "  <thead>\n",
       "    <tr style=\"text-align: right;\">\n",
       "      <th></th>\n",
       "      <th>uniform</th>\n",
       "      <th>gauss_1</th>\n",
       "      <th>gauss_2</th>\n",
       "      <th>gauss_3</th>\n",
       "    </tr>\n",
       "    <tr>\n",
       "      <th>groups</th>\n",
       "      <th></th>\n",
       "      <th></th>\n",
       "      <th></th>\n",
       "      <th></th>\n",
       "    </tr>\n",
       "  </thead>\n",
       "  <tbody>\n",
       "    <tr>\n",
       "      <th>группа_1</th>\n",
       "      <td>215</td>\n",
       "      <td>215</td>\n",
       "      <td>215</td>\n",
       "      <td>215</td>\n",
       "    </tr>\n",
       "    <tr>\n",
       "      <th>группа_2</th>\n",
       "      <td>194</td>\n",
       "      <td>194</td>\n",
       "      <td>194</td>\n",
       "      <td>194</td>\n",
       "    </tr>\n",
       "    <tr>\n",
       "      <th>группа_3</th>\n",
       "      <td>184</td>\n",
       "      <td>184</td>\n",
       "      <td>184</td>\n",
       "      <td>184</td>\n",
       "    </tr>\n",
       "    <tr>\n",
       "      <th>группа_4</th>\n",
       "      <td>222</td>\n",
       "      <td>222</td>\n",
       "      <td>222</td>\n",
       "      <td>222</td>\n",
       "    </tr>\n",
       "    <tr>\n",
       "      <th>группа_5</th>\n",
       "      <td>177</td>\n",
       "      <td>177</td>\n",
       "      <td>177</td>\n",
       "      <td>177</td>\n",
       "    </tr>\n",
       "  </tbody>\n",
       "</table>\n",
       "</div>"
      ],
      "text/plain": [
       "          uniform  gauss_1  gauss_2  gauss_3\n",
       "groups                                      \n",
       "группа_1      215      215      215      215\n",
       "группа_2      194      194      194      194\n",
       "группа_3      184      184      184      184\n",
       "группа_4      222      222      222      222\n",
       "группа_5      177      177      177      177"
      ]
     },
     "execution_count": 258,
     "metadata": {},
     "output_type": "execute_result"
    }
   ],
   "source": [
    "df.groupby('groups').count()"
   ]
  },
  {
   "cell_type": "markdown",
   "id": "6a683962",
   "metadata": {},
   "source": [
    "### Задание 4"
   ]
  },
  {
   "cell_type": "markdown",
   "id": "3c543f4e",
   "metadata": {},
   "source": [
    " Для группа_5 вывести самый \"ранний\" (наименьший) индекс."
   ]
  },
  {
   "cell_type": "code",
   "execution_count": 281,
   "id": "701b0763",
   "metadata": {},
   "outputs": [
    {
     "data": {
      "text/plain": [
       "6"
      ]
     },
     "execution_count": 281,
     "metadata": {},
     "output_type": "execute_result"
    }
   ],
   "source": [
    "df.loc[df['groups'] == 'группа_5'].index.min()"
   ]
  },
  {
   "cell_type": "code",
   "execution_count": 282,
   "id": "8a3b8d12",
   "metadata": {},
   "outputs": [
    {
     "data": {
      "text/html": [
       "<div>\n",
       "<style scoped>\n",
       "    .dataframe tbody tr th:only-of-type {\n",
       "        vertical-align: middle;\n",
       "    }\n",
       "\n",
       "    .dataframe tbody tr th {\n",
       "        vertical-align: top;\n",
       "    }\n",
       "\n",
       "    .dataframe thead th {\n",
       "        text-align: right;\n",
       "    }\n",
       "</style>\n",
       "<table border=\"1\" class=\"dataframe\">\n",
       "  <thead>\n",
       "    <tr style=\"text-align: right;\">\n",
       "      <th></th>\n",
       "      <th>groups</th>\n",
       "      <th>uniform</th>\n",
       "      <th>gauss_1</th>\n",
       "      <th>gauss_2</th>\n",
       "      <th>gauss_3</th>\n",
       "    </tr>\n",
       "  </thead>\n",
       "  <tbody>\n",
       "    <tr>\n",
       "      <th>6</th>\n",
       "      <td>группа_5</td>\n",
       "      <td>64</td>\n",
       "      <td>0.121862</td>\n",
       "      <td>-15.706344</td>\n",
       "      <td>37.264697</td>\n",
       "    </tr>\n",
       "    <tr>\n",
       "      <th>7</th>\n",
       "      <td>группа_5</td>\n",
       "      <td>79</td>\n",
       "      <td>0.789998</td>\n",
       "      <td>-1.125028</td>\n",
       "      <td>56.556745</td>\n",
       "    </tr>\n",
       "    <tr>\n",
       "      <th>18</th>\n",
       "      <td>группа_5</td>\n",
       "      <td>80</td>\n",
       "      <td>0.390384</td>\n",
       "      <td>-3.111324</td>\n",
       "      <td>57.699977</td>\n",
       "    </tr>\n",
       "    <tr>\n",
       "      <th>21</th>\n",
       "      <td>группа_5</td>\n",
       "      <td>95</td>\n",
       "      <td>0.434685</td>\n",
       "      <td>6.883961</td>\n",
       "      <td>40.440062</td>\n",
       "    </tr>\n",
       "    <tr>\n",
       "      <th>22</th>\n",
       "      <td>группа_5</td>\n",
       "      <td>70</td>\n",
       "      <td>2.189199</td>\n",
       "      <td>-23.722245</td>\n",
       "      <td>47.054641</td>\n",
       "    </tr>\n",
       "    <tr>\n",
       "      <th>...</th>\n",
       "      <td>...</td>\n",
       "      <td>...</td>\n",
       "      <td>...</td>\n",
       "      <td>...</td>\n",
       "      <td>...</td>\n",
       "    </tr>\n",
       "    <tr>\n",
       "      <th>971</th>\n",
       "      <td>группа_5</td>\n",
       "      <td>80</td>\n",
       "      <td>-0.745116</td>\n",
       "      <td>0.449869</td>\n",
       "      <td>47.499498</td>\n",
       "    </tr>\n",
       "    <tr>\n",
       "      <th>978</th>\n",
       "      <td>группа_5</td>\n",
       "      <td>50</td>\n",
       "      <td>0.712819</td>\n",
       "      <td>3.428607</td>\n",
       "      <td>44.329374</td>\n",
       "    </tr>\n",
       "    <tr>\n",
       "      <th>989</th>\n",
       "      <td>группа_5</td>\n",
       "      <td>60</td>\n",
       "      <td>0.148515</td>\n",
       "      <td>2.928564</td>\n",
       "      <td>38.729513</td>\n",
       "    </tr>\n",
       "    <tr>\n",
       "      <th>997</th>\n",
       "      <td>группа_5</td>\n",
       "      <td>60</td>\n",
       "      <td>0.765711</td>\n",
       "      <td>-16.933376</td>\n",
       "      <td>33.617591</td>\n",
       "    </tr>\n",
       "    <tr>\n",
       "      <th>1000</th>\n",
       "      <td>группа_5</td>\n",
       "      <td>55</td>\n",
       "      <td>0.007151</td>\n",
       "      <td>5.734309</td>\n",
       "      <td>59.909507</td>\n",
       "    </tr>\n",
       "  </tbody>\n",
       "</table>\n",
       "<p>177 rows × 5 columns</p>\n",
       "</div>"
      ],
      "text/plain": [
       "        groups  uniform   gauss_1    gauss_2    gauss_3\n",
       "6     группа_5       64  0.121862 -15.706344  37.264697\n",
       "7     группа_5       79  0.789998  -1.125028  56.556745\n",
       "18    группа_5       80  0.390384  -3.111324  57.699977\n",
       "21    группа_5       95  0.434685   6.883961  40.440062\n",
       "22    группа_5       70  2.189199 -23.722245  47.054641\n",
       "...        ...      ...       ...        ...        ...\n",
       "971   группа_5       80 -0.745116   0.449869  47.499498\n",
       "978   группа_5       50  0.712819   3.428607  44.329374\n",
       "989   группа_5       60  0.148515   2.928564  38.729513\n",
       "997   группа_5       60  0.765711 -16.933376  33.617591\n",
       "1000  группа_5       55  0.007151   5.734309  59.909507\n",
       "\n",
       "[177 rows x 5 columns]"
      ]
     },
     "execution_count": 282,
     "metadata": {},
     "output_type": "execute_result"
    }
   ],
   "source": [
    "df.loc[df['groups'] == 'группа_5'].sort_index()"
   ]
  },
  {
   "cell_type": "markdown",
   "id": "469afdcf",
   "metadata": {},
   "source": [
    "### Задание 5"
   ]
  },
  {
   "cell_type": "markdown",
   "id": "b5e35ecd",
   "metadata": {},
   "source": [
    "Сколько записей из колонки uniform имеют значение не ниже значения 90% перцентиля?"
   ]
  },
  {
   "cell_type": "code",
   "execution_count": 291,
   "id": "8257a5a5",
   "metadata": {},
   "outputs": [
    {
     "data": {
      "text/plain": [
       "118"
      ]
     },
     "execution_count": 291,
     "metadata": {},
     "output_type": "execute_result"
    }
   ],
   "source": [
    "len(df.loc[df['uniform'] >= np.percentile(df['uniform'], 90)])"
   ]
  },
  {
   "cell_type": "markdown",
   "id": "22ebbab5",
   "metadata": {},
   "source": [
    "### Задание 6"
   ]
  },
  {
   "cell_type": "markdown",
   "id": "55b2e9d9",
   "metadata": {},
   "source": [
    "У какой группы наибольшее значение медианы для gauss_3?"
   ]
  },
  {
   "cell_type": "code",
   "execution_count": 305,
   "id": "07a6c6b4",
   "metadata": {},
   "outputs": [
    {
     "data": {
      "text/plain": [
       "'группа_2'"
      ]
     },
     "execution_count": 305,
     "metadata": {},
     "output_type": "execute_result"
    }
   ],
   "source": [
    "df.groupby('groups')['gauss_3'].median().sort_values().index[-1]"
   ]
  },
  {
   "cell_type": "markdown",
   "id": "eecf11d9",
   "metadata": {},
   "source": [
    "### Задание 7"
   ]
  },
  {
   "cell_type": "markdown",
   "id": "60833e59",
   "metadata": {},
   "source": [
    "У какой группы наибольшее минимальное значение uniform?\n",
    "\n",
    "Если такого нет, выбрать группу наибольшим минимальным значением в gauss_1. \n",
    "\n",
    "Ответ дать в виде группы, через пробел указать значение в gauss_2 с аналогичной агрегацией "
   ]
  },
  {
   "cell_type": "code",
   "execution_count": 307,
   "id": "ddfe4c5e",
   "metadata": {
    "scrolled": true
   },
   "outputs": [
    {
     "data": {
      "text/plain": [
       "groups\n",
       "группа_1    50\n",
       "группа_2    50\n",
       "группа_3    50\n",
       "группа_4    50\n",
       "группа_5    50\n",
       "Name: uniform, dtype: int64"
      ]
     },
     "execution_count": 307,
     "metadata": {},
     "output_type": "execute_result"
    }
   ],
   "source": [
    "df.groupby('groups')['uniform'].min()"
   ]
  },
  {
   "cell_type": "code",
   "execution_count": 314,
   "id": "136e0616",
   "metadata": {},
   "outputs": [
    {
     "data": {
      "text/plain": [
       "'группа_3'"
      ]
     },
     "execution_count": 314,
     "metadata": {},
     "output_type": "execute_result"
    }
   ],
   "source": [
    "df.groupby('groups')['gauss_1'].min().sort_values().index[-1]"
   ]
  },
  {
   "cell_type": "code",
   "execution_count": 318,
   "id": "d3041a24",
   "metadata": {},
   "outputs": [
    {
     "data": {
      "text/plain": [
       "-36.18751957608629"
      ]
     },
     "execution_count": 318,
     "metadata": {},
     "output_type": "execute_result"
    }
   ],
   "source": [
    "df.groupby('groups')['gauss_2'].min()[df.groupby('groups')['gauss_1'].min().sort_values().index[-1]]"
   ]
  },
  {
   "cell_type": "markdown",
   "id": "ee1835e9",
   "metadata": {},
   "source": [
    "### Задание 8 "
   ]
  },
  {
   "cell_type": "markdown",
   "id": "9effb460",
   "metadata": {},
   "source": [
    "Создать новую колонку gauss где значения будут получаться из (gauss_1 + gauss_2) / gauss_3\n",
    "\n",
    "Чему будет равен 70% перцентиль (результат округлить до сотых, для дробной части использовать точку, как разделитель)?"
   ]
  },
  {
   "cell_type": "code",
   "execution_count": 319,
   "id": "be48b88c",
   "metadata": {},
   "outputs": [
    {
     "data": {
      "text/html": [
       "<div>\n",
       "<style scoped>\n",
       "    .dataframe tbody tr th:only-of-type {\n",
       "        vertical-align: middle;\n",
       "    }\n",
       "\n",
       "    .dataframe tbody tr th {\n",
       "        vertical-align: top;\n",
       "    }\n",
       "\n",
       "    .dataframe thead th {\n",
       "        text-align: right;\n",
       "    }\n",
       "</style>\n",
       "<table border=\"1\" class=\"dataframe\">\n",
       "  <thead>\n",
       "    <tr style=\"text-align: right;\">\n",
       "      <th></th>\n",
       "      <th>groups</th>\n",
       "      <th>uniform</th>\n",
       "      <th>gauss_1</th>\n",
       "      <th>gauss_2</th>\n",
       "      <th>gauss_3</th>\n",
       "      <th>gauss</th>\n",
       "    </tr>\n",
       "  </thead>\n",
       "  <tbody>\n",
       "    <tr>\n",
       "      <th>476</th>\n",
       "      <td>группа_1</td>\n",
       "      <td>95</td>\n",
       "      <td>3.010291</td>\n",
       "      <td>2.156346</td>\n",
       "      <td>57.455851</td>\n",
       "      <td>0.089924</td>\n",
       "    </tr>\n",
       "    <tr>\n",
       "      <th>315</th>\n",
       "      <td>группа_5</td>\n",
       "      <td>77</td>\n",
       "      <td>0.190277</td>\n",
       "      <td>-9.934550</td>\n",
       "      <td>62.694177</td>\n",
       "      <td>-0.155425</td>\n",
       "    </tr>\n",
       "    <tr>\n",
       "      <th>490</th>\n",
       "      <td>группа_4</td>\n",
       "      <td>96</td>\n",
       "      <td>-0.282161</td>\n",
       "      <td>9.211071</td>\n",
       "      <td>54.688895</td>\n",
       "      <td>0.163267</td>\n",
       "    </tr>\n",
       "    <tr>\n",
       "      <th>748</th>\n",
       "      <td>группа_3</td>\n",
       "      <td>56</td>\n",
       "      <td>1.127080</td>\n",
       "      <td>-12.391793</td>\n",
       "      <td>30.192353</td>\n",
       "      <td>-0.373098</td>\n",
       "    </tr>\n",
       "    <tr>\n",
       "      <th>471</th>\n",
       "      <td>группа_5</td>\n",
       "      <td>52</td>\n",
       "      <td>-1.238270</td>\n",
       "      <td>10.938748</td>\n",
       "      <td>52.682052</td>\n",
       "      <td>0.184133</td>\n",
       "    </tr>\n",
       "    <tr>\n",
       "      <th>...</th>\n",
       "      <td>...</td>\n",
       "      <td>...</td>\n",
       "      <td>...</td>\n",
       "      <td>...</td>\n",
       "      <td>...</td>\n",
       "      <td>...</td>\n",
       "    </tr>\n",
       "    <tr>\n",
       "      <th>260</th>\n",
       "      <td>группа_4</td>\n",
       "      <td>57</td>\n",
       "      <td>-1.484164</td>\n",
       "      <td>-5.911598</td>\n",
       "      <td>49.330196</td>\n",
       "      <td>-0.149924</td>\n",
       "    </tr>\n",
       "    <tr>\n",
       "      <th>146</th>\n",
       "      <td>группа_4</td>\n",
       "      <td>78</td>\n",
       "      <td>-0.379041</td>\n",
       "      <td>-3.132954</td>\n",
       "      <td>60.329900</td>\n",
       "      <td>-0.058213</td>\n",
       "    </tr>\n",
       "    <tr>\n",
       "      <th>972</th>\n",
       "      <td>группа_1</td>\n",
       "      <td>52</td>\n",
       "      <td>-0.857206</td>\n",
       "      <td>0.835715</td>\n",
       "      <td>51.926114</td>\n",
       "      <td>-0.000414</td>\n",
       "    </tr>\n",
       "    <tr>\n",
       "      <th>161</th>\n",
       "      <td>группа_1</td>\n",
       "      <td>62</td>\n",
       "      <td>-0.195475</td>\n",
       "      <td>3.496498</td>\n",
       "      <td>66.310250</td>\n",
       "      <td>0.049781</td>\n",
       "    </tr>\n",
       "    <tr>\n",
       "      <th>587</th>\n",
       "      <td>группа_5</td>\n",
       "      <td>60</td>\n",
       "      <td>0.093496</td>\n",
       "      <td>-9.164475</td>\n",
       "      <td>60.897843</td>\n",
       "      <td>-0.148954</td>\n",
       "    </tr>\n",
       "  </tbody>\n",
       "</table>\n",
       "<p>992 rows × 6 columns</p>\n",
       "</div>"
      ],
      "text/plain": [
       "       groups  uniform   gauss_1    gauss_2    gauss_3     gauss\n",
       "476  группа_1       95  3.010291   2.156346  57.455851  0.089924\n",
       "315  группа_5       77  0.190277  -9.934550  62.694177 -0.155425\n",
       "490  группа_4       96 -0.282161   9.211071  54.688895  0.163267\n",
       "748  группа_3       56  1.127080 -12.391793  30.192353 -0.373098\n",
       "471  группа_5       52 -1.238270  10.938748  52.682052  0.184133\n",
       "..        ...      ...       ...        ...        ...       ...\n",
       "260  группа_4       57 -1.484164  -5.911598  49.330196 -0.149924\n",
       "146  группа_4       78 -0.379041  -3.132954  60.329900 -0.058213\n",
       "972  группа_1       52 -0.857206   0.835715  51.926114 -0.000414\n",
       "161  группа_1       62 -0.195475   3.496498  66.310250  0.049781\n",
       "587  группа_5       60  0.093496  -9.164475  60.897843 -0.148954\n",
       "\n",
       "[992 rows x 6 columns]"
      ]
     },
     "execution_count": 319,
     "metadata": {},
     "output_type": "execute_result"
    }
   ],
   "source": [
    "df['gauss'] = (df.gauss_1 + df.gauss_2) / df.gauss_3\n",
    "df"
   ]
  },
  {
   "cell_type": "code",
   "execution_count": 320,
   "id": "d1a053b3",
   "metadata": {},
   "outputs": [
    {
     "data": {
      "text/plain": [
       "0.10641825158661447"
      ]
     },
     "execution_count": 320,
     "metadata": {},
     "output_type": "execute_result"
    }
   ],
   "source": [
    "np.percentile(df['gauss'], 70)"
   ]
  },
  {
   "cell_type": "code",
   "execution_count": null,
   "id": "18a5e7c5",
   "metadata": {},
   "outputs": [],
   "source": []
  }
 ],
 "metadata": {
  "kernelspec": {
   "display_name": "Python 3 (ipykernel)",
   "language": "python",
   "name": "python3"
  },
  "language_info": {
   "codemirror_mode": {
    "name": "ipython",
    "version": 3
   },
   "file_extension": ".py",
   "mimetype": "text/x-python",
   "name": "python",
   "nbconvert_exporter": "python",
   "pygments_lexer": "ipython3",
   "version": "3.9.13"
  }
 },
 "nbformat": 4,
 "nbformat_minor": 5
}
